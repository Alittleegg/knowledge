{
 "cells": [
  {
   "cell_type": "markdown",
   "metadata": {},
   "source": [
    "# 前言\n",
    "- Linux基础\n",
    "- Python基础\n",
    "- Python面向对象"
   ]
  },
  {
   "cell_type": "markdown",
   "metadata": {},
   "source": [
    "# 操作系统\n",
    "操作系统是一段特殊的软件，其作用有：\n",
    "- 直接操作硬件\n",
    "- 把操作硬件的代码封装成系统调用，供应用程序间接操作硬件"
   ]
  },
  {
   "cell_type": "markdown",
   "metadata": {},
   "source": [
    "# linux  主要目录速查表"
   ]
  },
  {
   "cell_type": "markdown",
   "metadata": {},
   "source": [
    "`/`: 根目录，当终端输入/home 其实是在告诉电脑，先从/（根目录）开始，再进入home目录。<br>\n",
    "`/bin`、`/usr/bin`：可执行二进制文件的目录，如常用的命令ls、tar、mv、cat等。<br>\n",
    "`/boot`：放置linux系统启动时用到的一些文件，如linux的内核文件：`/boot/vmlinuz`，系统引导管理器：`/boot/grub`。<br>\n",
    "`/dev`：存放linux系统下的设备文件，访问该目录下某个文件，相当于访问某个设备，常用的是挂载光驱mount `/dev/cdrom/mnt`。<br>\n",
    "`/etc`：系统配置文件的存放目录，不建议在此目录下存放可执行文件，重要的配置文件有：<br>\n",
    "- /etc/inittab\n",
    "- /etc/fstab\n",
    "- /etc/x11\n",
    "- /etc/sysconfig\n",
    "- /etc/xinetd.d\n",
    "\n",
    "/home：系统默认的用户家目录<br>\n",
    "- ～表示当前用户的家目录\n",
    "- ～edu表示拥护edu的家目录\n",
    "\n",
    "`/lib`、`/usr/lib`、`/usr/local/lib`：系统使用的函数库的目录，程序在执行过程中，需要调用一些额外的参数时需要函数库的协助。<br>\n",
    "`/lost+fount`：系统异常产生错误时，会将一些遗失的片段放置于此目录下。<br>\n",
    "`/mnt/media`：光盘默认挂载点，通常光盘挂载于/mnt/cdrom下，也不一定，可以选择任意位置进行挂载。<br>\n",
    "`/opt`：给主机额外安装软件所摆放目录。<br>\n",
    "`/proc`：此目录的数据都在内存中，如系统核心，外部设备，网络状态，由于数据都存放于内存中，所以不占用磁盘空间，比较重要的文件有：/proc/cpuinfo、/proc/interrupts，/proc/dma、/proc/ioports、/proc/net/* 等<br>\n",
    "`/root`：系统管理员root等家目录"
   ]
  },
  {
   "cell_type": "markdown",
   "metadata": {},
   "source": [
    "# 常用Linux命令等基本使用"
   ]
  },
  {
   "cell_type": "markdown",
   "metadata": {},
   "source": [
    "| 命令缩写 | 命令全称 | 作用 |\n",
    "| :-----: | :-------: | :----: |\n",
    "| ls | list | 查看当前文件夹下等内容|\n",
    "| pwd | print work directory | 查看当前所在文件夹|\n",
    "| cd [目录名] | change directory | 切换文件夹|\n",
    "| touch [文件名] |touch | 如果文件不存在，新建文件|\n",
    "| mkdir [目录名] | make directory | 创建目录 |\n",
    "| rm [文件名] | remove | 删除指定的文件名 |\n",
    "| clear | clear | 清屏 |"
   ]
  },
  {
   "cell_type": "markdown",
   "metadata": {},
   "source": [
    "# Linux终端命令格式"
   ]
  },
  {
   "cell_type": "markdown",
   "metadata": {},
   "source": [
    "### 01 终端命令格式\n",
    "`command [-options] [parameter]` <br>\n",
    "说明：\n",
    "- command：命令名，相应功能的英文单词或单词的缩写\n",
    "- [-options]：选项，可用来对命令进行控制，也可以省略\n",
    "- parameter：传给命令的参数，可以是零个、一个或者多个"
   ]
  },
  {
   "cell_type": "markdown",
   "metadata": {},
   "source": [
    "### 02 查阅命令帮助信息\n",
    "`command —help`：显示command命令的帮助信息<br>\n",
    "`man command`：查阅command命令的使用手册<br>\n",
    "\n",
    "|使用man时的操作键 | 作用 |\n",
    "| :----: | :----: |\n",
    "| 空格键 | 显示手册页的下一屏 |\n",
    "|enter键 |  一次滚动手册页的一行 |\n",
    "|b  | 回滚一屏  |\n",
    "|f  | 前滚一屏  |\n",
    "|q  | 退出  |"
   ]
  },
  {
   "cell_type": "markdown",
   "metadata": {},
   "source": [
    "# 文件和目录常用命令"
   ]
  },
  {
   "cell_type": "markdown",
   "metadata": {},
   "source": [
    "### 01 查看目录内容\n",
    "注意：以.开头的文件为隐藏文件，需要用-a参数才能显示<br>\n",
    "\n",
    "**ls常用选项**<br>\n",
    "-a 显示指定目录下所有子目录与文件，包括隐藏文件<br>\n",
    "-l  以列表方式显示文件的详细信息，显示的文件大小以字节为单位<br>\n",
    "-h 配合-l以人性化的方式显示文件大小，显示的文件大小以K、M、G等为单位<br>\n",
    "\n",
    "**ls通配符使用**<br>\n",
    "\\*\t 代表任意个数个字符<br>\n",
    "？ 代表任意一个字符，至少1个<br>\n",
    "\\[]  表示可以匹配字符组中的任意一个<br>\n",
    "[abc] 匹配a、b、c中的任意一个<br>\n",
    "[a-f]  匹配从a到f范围内的任意一个字符<br>"
   ]
  },
  {
   "cell_type": "markdown",
   "metadata": {},
   "source": [
    "###  02 切换目录\n",
    "**cd 常用选项**<br>\n",
    "cd  切换到当前用户的主目录（/home/用户目录）<br>\n",
    "cd ～ 切换到当前用户的主目录（/home/用户目录）<br>\n",
    "cd .  保持在当前目录不变<br>\n",
    "cd .. 切换到上级目录<br>\n",
    "cd - 可以在最近两次工作目录之间来回切换<br>"
   ]
  },
  {
   "cell_type": "markdown",
   "metadata": {},
   "source": [
    "### 03 创建和删除操作\n",
    "**touch**\n",
    " - 如果文件不存在，可以创建一个空白文件；\n",
    " - 如果文件已经存在，可以修改文件的末次修改日期。\n",
    "\n",
    "**mkdir**<br>\n",
    "-p  可以递归创建目录，如 `mkdir -p a/b/c/d`。<br>\n",
    "注意：新建目录的名称不能与当前目录中的已有的目录或文件同名<br>\n",
    "\n",
    "**rm**<br>\n",
    "-f  强制删除，忽略不存在的文件，无需提示.<br>\n",
    "-r  递归地删除目录下的内容，删除文件夹必须加此参数，如 `rm -r a`.<br>"
   ]
  },
  {
   "cell_type": "markdown",
   "metadata": {},
   "source": [
    "### 04 拷贝和移动文件\n",
    "\n",
    "| 命令缩写 | 命令全称 | 作用 |\n",
    "| :-----: | :-----: | :------: |\n",
    "| tree[目录名] | tree | 以树状图列出文件目录结构 |\n",
    "| cp 源文件 目标文件 | copy | 复制文件或者目录 |\n",
    "| mv 源文件 目标文件 | move | 移动文件或者目录/文件或者目录重命名 |\n",
    "\n",
    "**tree常用选项**<br>\n",
    "-d  只显示目录<br>\n",
    "\n",
    "**cp常用选项**<br>\n",
    "-i 覆盖文件前提示<br>\n",
    "-r 若给出的源文件是目录文件，则cp将递归复制该目录下的所有子目录和文件，目标文件必须为一个目录名<br>\n",
    "\n",
    "**mv常用选项**<br>\n",
    "-i 覆盖文件前提示<br>"
   ]
  },
  {
   "cell_type": "markdown",
   "metadata": {},
   "source": [
    "### 05 查看文件内容\n",
    "\n",
    "| 命令缩写 | 命令全称 | 作用 |\n",
    "| :-----: | :-----: | :-----: |\n",
    "|cat 文件名 | concatenate | 查看文件内容、创建文件、文件合并、追加文件内容等功能 |\n",
    "|more 文件名 | more | 分屏显示文件内容 |\n",
    "|grep 搜索文本 文件名 | grep | 搜索文本文件内容 |\n",
    "\n",
    "**cat常用选项**<br>\n",
    "-b 对非空输出行编号<br>\n",
    "-n 对输出等所有行编号<br>\n",
    "\n",
    "**grep常用选项**<br>\n",
    "grep允许对文本文件进行模式查找，所谓模式查找，又被称为正则表达式。<br>\n",
    "-n 显示匹配行及行号<br>\n",
    "-v 显示不包含匹配文本的所有行（相当于求反）<br>\n",
    "-i 忽略大小写<br>\n",
    "\n",
    "**常用的两种模式查找**<br>\n",
    "^a 行首，搜索以a开头的行<br>\n",
    "ke$ 行尾，搜索以ke结束的行<br>"
   ]
  },
  {
   "cell_type": "markdown",
   "metadata": {},
   "source": [
    "### 06 其他命令\n",
    "\n",
    "**echo**<br>\n",
    "echo 文件内容：echo会在终端中显示参数指定的文字，通常会和重定向联合使用。<br>\n",
    "\n",
    "**重定向>和>>**<br>\n",
    " - Linux允许将命令执行结果重定向到一个文件\n",
    " - 将本应显示在终端上的内容输出/追加到指定文件中\n",
    " - \\>表示输出，会覆盖文件原有的内容\n",
    " - \\>>表示追加，会将内容追加到已有文件的末尾\n",
    "如：`echo hello python > a` 表示 将“hello python”写入到文件a中；<br>\n",
    "   `ls -lh > a` 表示 将ls列出的结果写入到文件a中，并覆盖“hello python”；<br>\n",
    "\n",
    "**管道|**<br>\n",
    " - Linux允许将一个命令的输出可以通过管道作为另一个命令的输入\n",
    " - more 分屏显示内容\n",
    " - grep 在命令执行结果的基础上查询指定文本\n",
    "如：`ls -lha ~ | more` 表示将家目录的所有文件分屏显示；<br>\n",
    "   ` ls -lha ~ | grep do `表示在查找家目录下文件名含“do”的文件。"
   ]
  },
  {
   "cell_type": "markdown",
   "metadata": {},
   "source": [
    "# 远程管理命令"
   ]
  },
  {
   "cell_type": "markdown",
   "metadata": {},
   "source": [
    "### 01 关机/重启\n",
    "\n",
    "| 命令 | 对应英文 | 作用 |\n",
    "| :---: | :--- : | :---: |\n",
    "| shutdown 选项 时间 | shutdown | 关机/重新启动 |\n",
    "\n",
    "**shutdown**\n",
    " - 安全关闭或重新启动系统\n",
    " - -r：重新启动\n",
    " - 不指定选项和参数时，默认表示**1分钟**之后关闭电脑\n",
    " - 远程维护服务器时，最好不要关闭系统，而应该重新启动系统\n",
    " - 常用命令示例\n",
    " \n",
    "```bash\n",
    "# 重新启动操作系统，其中now表示现在\n",
    "shutdown -r now\n",
    "# 立刻关机\n",
    "shutdown now\n",
    "# 系统在今天的 20:25 会关机\n",
    "shutdown 20:25\n",
    "# 系统再过十分钟后自动关机\n",
    "shutdown +10\n",
    "# 取消之前指定的关机计划\n",
    "shutdown -c\n",
    "\n",
    "```"
   ]
  },
  {
   "cell_type": "markdown",
   "metadata": {},
   "source": [
    "### 02 查看或配置网卡信息\n",
    "\n",
    "| 序号 | 命令 | 对应英文 | 作用 |\n",
    "| :---: | :---: | :---: | :---: |\n",
    "| 01 | ifconfig | configure a network interface | 查看/配置计算机当前的网卡配置信息 |\n",
    "| 02 | ping ip地址 | ping | 检测到目标ip地址的连接是否正常 |\n",
    "\n",
    "**网卡和IP地址**\n",
    " - 网卡是一个专门负责网络通讯的硬件设备\n",
    " - IP地址是设置在网卡上的地址信息\n",
    " \n",
    "**ifconfig**\n",
    " - `ifconfig`可以查看/配置计算机当前的网卡配置信息\n",
    "\n",
    "```bash\n",
    "# 查看网卡配置信息（详细信息）\n",
    "ifconfig\n",
    "# 查看网卡对应的IP地址（简略）\n",
    "ifconfig | grep inet\n",
    "```\n",
    "- 一台计算机中有可能有一个物理网卡和多个虚拟网卡，在linux中物理网卡的名字通常以`ensXX`表示\n",
    "- 127.0.0.1被称为本地回环/环回地址，一般用来测试本机网卡是否正常\n",
    "\n",
    "**ping**\n",
    " - ping一般用于检测当前计算机到目标计算机之间的网络**是否通畅，数值越大，速度越慢**\n",
    " - 原理：网络上的机器都有唯一确定的IP地址，我们给目标IP地址发送一个数据包，对方就要返回一个数据包，根据返回的数据包及时间，可以确定目标主机的存在。\n",
    "```bash\n",
    "# 检测到目标主机是否连接正常\n",
    "ping IP地址\n",
    "# 检测本地网卡工作正常\n",
    "ping 127.0.0.1\n",
    "```"
   ]
  },
  {
   "cell_type": "markdown",
   "metadata": {},
   "source": [
    "### 03 远程登录和复制文件\n",
    "\n",
    "| 序号 | 命令 | 对应英文 | 作用 |\n",
    "| :---: | :---: | :----: | :---：|\n",
    "| 01 | ssh用户名@ip | secure shell | 关机/重新启动 |\n",
    "| 02 | scp 用户名@ip:文件名或路径 用户名@ip:文件名或路径 | secure copy | 远程复制文件 |\n",
    "\n",
    "**ssh基础（重点）**\n",
    " - SSH客户端是一种使用Secure Shell协议连接到远程计算机的软件程序\n",
    " - SSH是目前较可靠，专为远程登录会话和其他网络服务提供安全性的协议\n",
    "    - 利用SSH协议可以**有效防止远程管理过程中的信息泄露**\n",
    "    - 通过SSH协议可以对所有传输的**数据进行加密**，也能够防止DNS欺骗和IP欺骗\n",
    " - SSH的另一项优点是传输的数据可以是经过**压缩的**，所以可以**加快传输速度**。"
   ]
  },
  {
   "cell_type": "code",
   "execution_count": null,
   "metadata": {},
   "outputs": [],
   "source": []
  },
  {
   "cell_type": "code",
   "execution_count": null,
   "metadata": {},
   "outputs": [],
   "source": []
  },
  {
   "cell_type": "code",
   "execution_count": null,
   "metadata": {},
   "outputs": [],
   "source": []
  },
  {
   "cell_type": "code",
   "execution_count": null,
   "metadata": {},
   "outputs": [],
   "source": []
  }
 ],
 "metadata": {
  "kernelspec": {
   "display_name": "Python 3",
   "language": "python",
   "name": "python3"
  },
  "language_info": {
   "codemirror_mode": {
    "name": "ipython",
    "version": 3
   },
   "file_extension": ".py",
   "mimetype": "text/x-python",
   "name": "python",
   "nbconvert_exporter": "python",
   "pygments_lexer": "ipython3",
   "version": "3.7.6"
  }
 },
 "nbformat": 4,
 "nbformat_minor": 2
}
